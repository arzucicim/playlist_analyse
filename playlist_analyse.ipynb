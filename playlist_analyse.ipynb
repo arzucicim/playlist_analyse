{
 "cells": [
  {
   "cell_type": "code",
   "execution_count": 1,
   "id": "c22dd4c9-4297-4535-bbbd-7fb88085b477",
   "metadata": {},
   "outputs": [
    {
     "data": {
      "text/plain": [
       "\"This project will analyse a user's playlist and provide inside such as the most common genres, average song duration,\\nthe most frequently occuring artists\""
      ]
     },
     "execution_count": 1,
     "metadata": {},
     "output_type": "execute_result"
    }
   ],
   "source": [
    "#spotify playlist analyst\n",
    "\"\"\"This project will analyse a user's playlist and provide inside such as the most common genres, average song duration,\n",
    "the most frequently occuring artists\"\"\""
   ]
  },
  {
   "cell_type": "code",
   "execution_count": null,
   "id": "9a549cc2-7a1b-4226-b009-d116deec65c9",
   "metadata": {},
   "outputs": [],
   "source": []
  },
  {
   "cell_type": "code",
   "execution_count": null,
   "id": "f59c8afd-3a94-4048-aeb0-af1a89a69a49",
   "metadata": {},
   "outputs": [],
   "source": []
  },
  {
   "cell_type": "code",
   "execution_count": null,
   "id": "9a1a643c-804e-4db7-a49f-b9b03f732447",
   "metadata": {},
   "outputs": [],
   "source": []
  },
  {
   "cell_type": "code",
   "execution_count": 3,
   "id": "6e7db38c-db9f-4e39-ac16-c154f38269d9",
   "metadata": {},
   "outputs": [
    {
     "ename": "SyntaxError",
     "evalue": "expected ':' (2665631365.py, line 7)",
     "output_type": "error",
     "traceback": [
      "\u001b[1;36m  Cell \u001b[1;32mIn[3], line 7\u001b[1;36m\u001b[0m\n\u001b[1;33m    def wrapper(*args, **kwargs)\u001b[0m\n\u001b[1;37m                                ^\u001b[0m\n\u001b[1;31mSyntaxError\u001b[0m\u001b[1;31m:\u001b[0m expected ':'\n"
     ]
    }
   ],
   "source": [
    "import time\n",
    "from collections import Counter\n",
    "from typing import list\n",
    "#decorator to measure executiomn time\n",
    "\n",
    "def execution_time(func):\n",
    "    def wrapper(*args, **kwargs)\n",
    "        start_time = time.time()\n",
    "        result = func(*args, **kwargs)\n",
    "        end_time = time.time()\n",
    "        print(f\"{func.__name__} executed in {end_time - start_time:.4f} seconds. \")\n",
    "        return result\n",
    "    return wrapper\n",
    "\n",
    "class Song:\n",
    "    \"\"\"class representing a song\"\"\"\n",
    "    def __init__(self, title: str, artist: str, genre: str, duration: float):\n",
    "        self.title = title\n",
    "        self.artist = artist\n",
    "        self.genre = genre\n",
    "        self.duration = duration\n",
    "\n",
    "    def __repr__(self):\n",
    "        return f\"{self.title} by {self.artist} ({self.minutes} min)\"\n",
    "\n",
    "class Playlist:\n",
    "    \"\"\"Class representing a playlist with various songs.\"\"\"\n",
    "    def __init__(self, name: str, songs: List[Song]):\n",
    "        self.name = name\n",
    "        self.songs = songs\n",
    "\n",
    "    def __iter__(self):\n",
    "        \"\"\"iterator to loop through songs one by one.\"\"\"\n",
    "        return iter(self.songs)\n",
    "\n",
    "    def song_generator(self):\n",
    "        \"\"\"generator to yield songs one by one\"\"\"\n",
    "        for song in self.songs:\n",
    "            yield song\n",
    "\n",
    "    def total_duration(self):\n",
    "        \"\"\"calculate total duration of the playlist.\"\"\"\n",
    "        return sum(song.duration for song in self.songs)\n",
    "\n",
    "    def most_common_genre(self):\n",
    "        genres = [song.genre for song in self.songs]\n",
    "        return Counter(genres).most_common(1)[0]\n",
    "\n",
    "song1 = Song(\"Imagine\", \"John Lennon\", \"Rock\", 3.5)\n",
    "song2 = Song(\"Bohemian Rhapsody\", \"Queen\", \"Rock\", 5.9)\n",
    "song3 = Song(\"Shape of You\", \"Ed Sheeran\", \"Pop\", 4.2)\n",
    "song4 = Song(\"Thriller\", \"Michael Jackson\", \"Pop\", 6.1)\n",
    "\n",
    "playlist = Playlist(\"my playlist\", [song1, song2, song3, song4])\n",
    "\n",
    "print(f\"total duration: {playlist.total_duration()} minutes\")\n",
    "print(f\"most common genre: {playlist.most_common_genre()\")    "
   ]
  },
  {
   "cell_type": "code",
   "execution_count": 5,
   "id": "c696e705-649b-430d-b8c3-f8d73b95bad1",
   "metadata": {},
   "outputs": [
    {
     "name": "stdout",
     "output_type": "stream",
     "text": [
      "Total duration: 19.7 minutes\n",
      "Most common genre: ('Rock', 2)\n"
     ]
    }
   ],
   "source": [
    "import time\n",
    "from collections import Counter\n",
    "from typing import List\n",
    "\n",
    "# Decorator to measure execution time\n",
    "def execution_time(func):\n",
    "    def wrapper(*args, **kwargs):\n",
    "        start_time = time.time()\n",
    "        result = func(*args, **kwargs)\n",
    "        end_time = time.time()\n",
    "        print(f\"{func.__name__} executed in {end_time - start_time:.4f} seconds\")\n",
    "        return result\n",
    "    return wrapper\n",
    "\n",
    "class Song:\n",
    "    \"\"\"Class representing a song.\"\"\"\n",
    "    def __init__(self, title: str, artist: str, genre: str, duration: float):\n",
    "        self.title = title\n",
    "        self.artist = artist\n",
    "        self.genre = genre\n",
    "        self.duration = duration  # Duration in minutes\n",
    "\n",
    "    def __repr__(self):\n",
    "        return f\"{self.title} by {self.artist} ({self.duration} min)\"\n",
    "\n",
    "class Playlist:\n",
    "    \"\"\"Class representing a playlist with various songs.\"\"\"\n",
    "    def __init__(self, name: str, songs: List[Song]):\n",
    "        self.name = name\n",
    "        self.songs = songs\n",
    "\n",
    "    def __iter__(self):\n",
    "        \"\"\"Iterator to loop through songs one by one.\"\"\"\n",
    "        return iter(self.songs)\n",
    "\n",
    "    def song_generator(self):\n",
    "        \"\"\"Generator to yield songs one by one.\"\"\"\n",
    "        for song in self.songs:\n",
    "            yield song    \n",
    "\n",
    "    def total_duration(self):\n",
    "        \"\"\"Calculate total duration of the playlist.\"\"\"\n",
    "        return sum(song.duration for song in self.songs)\n",
    "\n",
    "    def most_common_genre(self):\n",
    "        \"\"\"Find the most common genre in the playlist.\"\"\"\n",
    "        genres = [song.genre for song in self.songs]\n",
    "        return Counter(genres).most_common(1)[0]\n",
    "\n",
    "# Sample songs\n",
    "song1 = Song(\"Imagine\", \"John Lennon\", \"Rock\", 3.5)\n",
    "song2 = Song(\"Bohemian Rhapsody\", \"Queen\", \"Rock\", 5.9)\n",
    "song3 = Song(\"Shape of You\", \"Ed Sheeran\", \"Pop\", 4.2)\n",
    "song4 = Song(\"Thriller\", \"Michael Jackson\", \"Pop\", 6.1)\n",
    "\n",
    "# Create playlist\n",
    "playlist = Playlist(\"My Playlist\", [song1, song2, song3, song4])\n",
    "\n",
    "# Print total duration\n",
    "print(f\"Total duration: {playlist.total_duration()} minutes\")\n",
    "\n",
    "# Print most common genre\n",
    "print(f\"Most common genre: {playlist.most_common_genre()}\")\n"
   ]
  },
  {
   "cell_type": "code",
   "execution_count": null,
   "id": "988c69dd-9f54-4899-9ec8-31efbcba19bf",
   "metadata": {},
   "outputs": [],
   "source": []
  },
  {
   "cell_type": "code",
   "execution_count": null,
   "id": "b1d50181-affe-46eb-9e90-e57c54086b14",
   "metadata": {},
   "outputs": [],
   "source": []
  },
  {
   "cell_type": "code",
   "execution_count": null,
   "id": "93db5842-beb0-4152-8520-d9870d160972",
   "metadata": {},
   "outputs": [],
   "source": []
  },
  {
   "cell_type": "code",
   "execution_count": null,
   "id": "c0f36cb5-2fcb-49d0-a9b6-e622641cd415",
   "metadata": {},
   "outputs": [],
   "source": []
  },
  {
   "cell_type": "code",
   "execution_count": null,
   "id": "7b190901-f1cf-43ac-9c44-9dc42080dd32",
   "metadata": {},
   "outputs": [],
   "source": []
  },
  {
   "cell_type": "code",
   "execution_count": null,
   "id": "029b611a-393b-4d39-b7a9-9944a7315ef9",
   "metadata": {},
   "outputs": [],
   "source": []
  },
  {
   "cell_type": "code",
   "execution_count": null,
   "id": "507229dd-a6f4-4172-ad7f-037ce40fa779",
   "metadata": {},
   "outputs": [],
   "source": []
  },
  {
   "cell_type": "code",
   "execution_count": null,
   "id": "263f0449-70e6-42a0-a5bd-e841f6966ab4",
   "metadata": {},
   "outputs": [],
   "source": []
  }
 ],
 "metadata": {
  "kernelspec": {
   "display_name": "Python 3 (ipykernel)",
   "language": "python",
   "name": "python3"
  },
  "language_info": {
   "codemirror_mode": {
    "name": "ipython",
    "version": 3
   },
   "file_extension": ".py",
   "mimetype": "text/x-python",
   "name": "python",
   "nbconvert_exporter": "python",
   "pygments_lexer": "ipython3",
   "version": "3.12.4"
  }
 },
 "nbformat": 4,
 "nbformat_minor": 5
}
